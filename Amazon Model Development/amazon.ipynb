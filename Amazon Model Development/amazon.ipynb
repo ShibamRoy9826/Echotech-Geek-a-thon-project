{
 "cells": [
  {
   "cell_type": "markdown",
   "id": "a3a03760-7e92-4451-8396-f1ebbdab3e0c",
   "metadata": {},
   "source": [
    "<h1 style=\"font-size: 24px; color: #333;\">All Imports</h1>\n"
   ]
  },
  {
   "cell_type": "code",
   "execution_count": 75,
   "id": "b36b56ec-056c-4a76-9824-db95087be5cf",
   "metadata": {
    "scrolled": true
   },
   "outputs": [],
   "source": [
    "import os\n",
    "import pandas as pd"
   ]
  },
  {
   "cell_type": "markdown",
   "id": "3fd8f527-6e39-49b3-9d07-779023c32788",
   "metadata": {},
   "source": [
    "<h1 style=\"font-size: 24px; color: #333;\">Getting data and Determining its character</h1>\n"
   ]
  },
  {
   "cell_type": "code",
   "execution_count": 25,
   "id": "b9598d44-9fd5-4c14-958b-33ad2cc78b2f",
   "metadata": {},
   "outputs": [
    {
     "data": {
      "text/html": [
       "<div>\n",
       "<style scoped>\n",
       "    .dataframe tbody tr th:only-of-type {\n",
       "        vertical-align: middle;\n",
       "    }\n",
       "\n",
       "    .dataframe tbody tr th {\n",
       "        vertical-align: top;\n",
       "    }\n",
       "\n",
       "    .dataframe thead th {\n",
       "        text-align: right;\n",
       "    }\n",
       "</style>\n",
       "<table border=\"1\" class=\"dataframe\">\n",
       "  <thead>\n",
       "    <tr style=\"text-align: right;\">\n",
       "      <th></th>\n",
       "      <th>image_name</th>\n",
       "      <th>tags</th>\n",
       "    </tr>\n",
       "  </thead>\n",
       "  <tbody>\n",
       "    <tr>\n",
       "      <th>count</th>\n",
       "      <td>40479</td>\n",
       "      <td>40479</td>\n",
       "    </tr>\n",
       "    <tr>\n",
       "      <th>unique</th>\n",
       "      <td>40479</td>\n",
       "      <td>449</td>\n",
       "    </tr>\n",
       "    <tr>\n",
       "      <th>top</th>\n",
       "      <td>train_0</td>\n",
       "      <td>clear primary</td>\n",
       "    </tr>\n",
       "    <tr>\n",
       "      <th>freq</th>\n",
       "      <td>1</td>\n",
       "      <td>13636</td>\n",
       "    </tr>\n",
       "  </tbody>\n",
       "</table>\n",
       "</div>"
      ],
      "text/plain": [
       "       image_name           tags\n",
       "count       40479          40479\n",
       "unique      40479            449\n",
       "top       train_0  clear primary\n",
       "freq            1          13636"
      ]
     },
     "execution_count": 25,
     "metadata": {},
     "output_type": "execute_result"
    }
   ],
   "source": [
    "df = pd.read_csv('train_v2.csv')\n",
    "df.describe()"
   ]
  },
  {
   "cell_type": "markdown",
   "id": "907f997b-f8bb-460b-9f4c-830b8a54063b",
   "metadata": {},
   "source": [
    "<h1 style=\"font-size: 24px; color: #333;\">Finding null records and Fixing the fixable values</h1>"
   ]
  },
  {
   "cell_type": "code",
   "execution_count": 56,
   "id": "c3f60c09-c1e2-4134-8883-2f7aaab9c603",
   "metadata": {},
   "outputs": [
    {
     "data": {
      "text/plain": [
       "40479"
      ]
     },
     "execution_count": 56,
     "metadata": {},
     "output_type": "execute_result"
    }
   ],
   "source": [
    "old_list = df['image_name'].unique()\n",
    "\n",
    "#list of images names in the dataset\n",
    "\n",
    "old_list = list(old_list)\n",
    "len(old_list)"
   ]
  },
  {
   "cell_type": "code",
   "execution_count": 57,
   "id": "630b73e5-3f5f-4c53-b972-926d1cd9999a",
   "metadata": {},
   "outputs": [],
   "source": [
    "#listing available images\n",
    "\n",
    "image_extensions = ['.jpg'] \n",
    "new_list = []\n",
    "for filename in os.listdir('train-jpg'):\n",
    "    # Check if the file has an image extension\n",
    "    if any(filename.lower().endswith(ext) for ext in image_extensions):\n",
    "        name_without_extension = os.path.splitext(filename)[0]\n",
    "        new_list.append(name_without_extension)"
   ]
  },
  {
   "cell_type": "code",
   "execution_count": 60,
   "id": "15fed480-ef60-42a5-a650-953798f96e4d",
   "metadata": {},
   "outputs": [
    {
     "data": {
      "text/plain": [
       "40479"
      ]
     },
     "execution_count": 60,
     "metadata": {},
     "output_type": "execute_result"
    }
   ],
   "source": [
    "new_list.sort()\n",
    "len(new_list)"
   ]
  },
  {
   "cell_type": "code",
   "execution_count": 45,
   "id": "5afc697c-fe63-4a22-8999-65066f5b1404",
   "metadata": {},
   "outputs": [],
   "source": [
    "#now   shifting common elements to fine_list"
   ]
  },
  {
   "cell_type": "code",
   "execution_count": 61,
   "id": "9092c3dd-9844-42e1-abd6-5dfe5efd7b1e",
   "metadata": {},
   "outputs": [],
   "source": [
    "fine_list = []"
   ]
  },
  {
   "cell_type": "code",
   "execution_count": 62,
   "id": "f9638b6f-e84d-47a7-aa99-287c1b81e41e",
   "metadata": {},
   "outputs": [],
   "source": [
    "# Iterate through elements in new_list\n",
    "for element in new_list:\n",
    "    if element in old_list:  \n",
    "        fine_list.append(element) \n",
    "        old_list.remove(element)   \n",
    "new_list = [element for element in new_list if element not in fine_list]"
   ]
  },
  {
   "cell_type": "code",
   "execution_count": 66,
   "id": "fe9ebfbf-937e-4e5d-903a-8aa3661748d3",
   "metadata": {},
   "outputs": [
    {
     "data": {
      "text/plain": [
       "40479"
      ]
     },
     "execution_count": 66,
     "metadata": {},
     "output_type": "execute_result"
    }
   ],
   "source": [
    "len(fine_list)"
   ]
  },
  {
   "cell_type": "code",
   "execution_count": 72,
   "id": "7fe2d4a8-f925-44e3-95d8-f50731f65de2",
   "metadata": {},
   "outputs": [],
   "source": [
    "# new_list equal to the the old_list elements so no null elements in record and also no missing images too!"
   ]
  },
  {
   "cell_type": "markdown",
   "id": "0e0f1f45-732e-4e9a-98fa-d71489d01958",
   "metadata": {},
   "source": [
    "<h1 style=\"font-size: 24px; color: #333;\">Creating a Model !</h1>\n"
   ]
  },
  {
   "cell_type": "code",
   "execution_count": null,
   "id": "1727adf8-078c-4ad4-b26e-17c50f2b9dad",
   "metadata": {},
   "outputs": [],
   "source": []
  }
 ],
 "metadata": {
  "kernelspec": {
   "display_name": "Python 3 (ipykernel)",
   "language": "python",
   "name": "python3"
  },
  "language_info": {
   "codemirror_mode": {
    "name": "ipython",
    "version": 3
   },
   "file_extension": ".py",
   "mimetype": "text/x-python",
   "name": "python",
   "nbconvert_exporter": "python",
   "pygments_lexer": "ipython3",
   "version": "3.9.13"
  }
 },
 "nbformat": 4,
 "nbformat_minor": 5
}
